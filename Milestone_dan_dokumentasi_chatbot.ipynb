{
  "nbformat": 4,
  "nbformat_minor": 0,
  "metadata": {
    "colab": {
      "name": "Milestone dan dokumentasi chatbot.ipynb",
      "provenance": [],
      "collapsed_sections": [],
      "toc_visible": true
    },
    "kernelspec": {
      "name": "python3",
      "display_name": "Python 3"
    }
  },
  "cells": [
    {
      "cell_type": "markdown",
      "metadata": {
        "id": "HYv5EB5Lhubz",
        "colab_type": "text"
      },
      "source": [
        "# Tentang Notebook ini\n",
        "\n",
        "Note book ini adalah semacam pre-dokumentasi untuk projek chatbot yang akan dan sedang saya kerjakan. Projek projek ini hanyalah ambisi pribadi untuk membuat sebuah asisten pribadi yang fleksibel. \n",
        "\n",
        "Well, sebenernya ini sangat nyebelin harus ngebreak down project beginian. Tapi ya, demi keberlangsungan otak saya, saya akan break down. Project chatbot ini akan saya bagi menjadi beberapa part di mana, di setiap part akan mewakili satu atau beberapa fitur yang bisa ditambahkan. Di akhir nanti diharapkan dapat menggabungkan semua versi chatbot menjadi satu chatbot secara utuh yang dapat mewakili semua fitur tersebut.\n",
        "\n",
        "**Here is some milestone**\n",
        "Update 28 Mei 2020:\n",
        "1. Chatbot sebagai Search Engine\n",
        "2. Chatbot sebagai pelayan toko\n",
        "3. Chatbot dengan pertimbangan nada kalimat.\n",
        "4. Chatbot untuk melakukan pekerjaan. (on hold, setelah skripsi)"
      ]
    },
    {
      "cell_type": "markdown",
      "metadata": {
        "id": "X8Y9Q63Xipbu",
        "colab_type": "text"
      },
      "source": [
        "# Chatbot v.1 - Untuk Search Engine\n",
        "\n",
        "**Chatbot ini digunakan** untuk melakukan beberapa tugas pencarian artikel. Meskipun, dengan batasan masalah hanya satu bidang saja. Terkait topik yang diusung adalah menyortir berita-berita hoax yang didapat dari <a href='turnbackhoax.id'>turnbackhoax.id</a> terkait berita hoax covid-19.\n",
        "\n",
        "**Ide utamanya** adalah untuk melakukan pencarian apakah suatu statement adalah hoax dengan membandingkan artikel yang terdapat di web turnbackhoax.id. Jika terdapat artikel yang memiliki kemiripan cukup (misalkan di sini saya tetapkan >50%, maka dinyatakan hoax (disertakan link artikel). Jika tidak, maka chatbot akan mengembalikan ke user untuk *self-checking* apakah berita tersebut hoax atau tidak. \n",
        "\n",
        "**Kekurangan** adalah algoritma yang digunakan hanya menggunakan tfidf serta pencocokan kesamaan dokumen menggunakan cosin_similiarity. Database juga tidak terlalu banyak, dokumen yang berhasil di crawling tidak lebih dari 500 dokumen (belum dilakukan pengecekan dokumen yang duplikat). Iya, ini bener-bener pendekatan yang naif. \n",
        "\n",
        "**ide pengembangan selanjutnya** seperti yang telah dijelaskan di subbab *kekurangan*, hal-hal yang menjadi kendala bisa diperbaiki. Terkait algoritma apa yang lebih bagus, saya masih belum tahu karena minimnya percobaan yang saya lakukan. Namun, biasanya, untuk kasus teks seperti ini, algoritma Neural Network seringkali dipakai, seperti CNN dsb. \n",
        "\n",
        "Selain itu, ide selanjutnya bisa dalam bentuk varietas data. Data tidak harus menggunakan teks, tapi bisa juga dalam bentuk gambar, suara, atau video. Namun, konsep dasarnya tetap sama seperti pada data teks."
      ]
    },
    {
      "cell_type": "markdown",
      "metadata": {
        "id": "17K9dDmMoBRP",
        "colab_type": "text"
      },
      "source": [
        "## The Code"
      ]
    },
    {
      "cell_type": "code",
      "metadata": {
        "id": "7QJFp8bShroC",
        "colab_type": "code",
        "colab": {}
      },
      "source": [
        "## Lorem Ipsum gatau lagi, lol.\n",
        "## mohon tunggu, saya terlalu malas untuk mindahin code ke sini \n",
        "##  karena di notebook sebelah masih cukup berantakan"
      ],
      "execution_count": 0,
      "outputs": []
    },
    {
      "cell_type": "markdown",
      "metadata": {
        "id": "OnQt7LLskXv6",
        "colab_type": "text"
      },
      "source": [
        "#Chatbot v.2 - Pelayan Toko \n",
        "\n",
        "Chatbot ini pada dasarnya digunakan untuk menggantikan pelayan toko di dunia nyata menjadi virtual. Hal-hal yang bisa dilakukan meliputi:\n",
        "\n",
        "1. Percakapan sederhana, seperti perkenalan,\n",
        "2. Pertanyaan mengenai produk, \n",
        "3. Proses jual beli\n",
        "\n",
        "Chatbot ini berfokus pada penggunaan **intent** yang digunakan untuk menentukan *set pertanyaan dan jawaban*. Meski konsep dasarnya mirip dengan role-based, chatbot ini lebih fleksibel karena user bisa mengetik apapun dan user tidak harus mengetik hal yang sama persis seperti template di intent.\n",
        "\n",
        "Cara kerjanya adalah dengan membuat sebuah model berdasarkan intent yang telah dibuat. Hal ini berarti developer harus membuat sebuah *decicion tree* mengenai daftar kemungkinan pertanyaan terlebih dahulu. Hal yang sedikit merepotkan adalah ketika decition tree nya mulai bercabang banyak. Saya masih belum menemukan cara yang cukup baik untuk diimplementasikan.\n",
        "\n",
        "Oh, sebagai catatan, pada contoh ini pendekatan pembuatan model sedikit berbeda karena saya membuatnya dari ponsel yang minim dengan library bantuan. Jadi hanya dilakukan pencocokan string sederhana. Nanti jika keadaan sudah cukup baik, saya akan update dokumentasi ini dengan algoritma yang lebih baik."
      ]
    },
    {
      "cell_type": "markdown",
      "metadata": {
        "id": "8X1fsF1BoT30",
        "colab_type": "text"
      },
      "source": [
        "## The Code"
      ]
    },
    {
      "cell_type": "code",
      "metadata": {
        "id": "mK7gkYYskdZO",
        "colab_type": "code",
        "colab": {}
      },
      "source": [
        "# definisi intent\n",
        "intents = {\n",
        "\t'intents' : [\n",
        "\t\t{\n",
        "\t\t\t'tag' : \"salam\",\n",
        "\t\t\t'setelahtag' : \"\",\n",
        "\t\t\t'bayar' : \"\",\n",
        "\t\t\t'pertanyaan' : [\n",
        "\t\t\t\t\"halo\",\n",
        "\t\t\t\t\"hi\",\n",
        "\t\t\t\t\"selamat pagi\",\n",
        "\t\t\t\t\"selamat siang\",\n",
        "\t\t\t\t\"malam\",\n",
        "\t\t\t],\n",
        "\t\t\t'jawaban' :[\n",
        "\t\t\t\t\"Hi!\",\n",
        "\t\t\t\t\"Halo!\",\n",
        "\t\t\t\t\"Yo!\",\n",
        "\t\t\t\t\"Senang melihatmu lagi.\"\n",
        "\t\t\t],\n",
        "\t\t},\n",
        "\t\t{\n",
        "\t\t\t'tag' : \"produk\",\n",
        "\t\t\t'setelahtag' : \"\",\n",
        "\t\t\t'bayar' : \"\",\n",
        "\t\t\t'pertanyaan' : [\n",
        "\t\t\t\t\"jual apa aja\",\n",
        "\t\t\t\t\"ada apa\"\n",
        "\t\t\t],\n",
        "\t\t\t'jawaban' : [\n",
        "\t\t\t\t\"Kami ada batagor sama eskrim, kak.\"\n",
        "\t\t\t],\n",
        "\t\t},\n",
        "\t\t{\n",
        "\t\t\t'tag' : \"b_eskrim\",\n",
        "\t\t\t'setelahtag' : \"\",\n",
        "\t\t\t'bayar' : \"\",\n",
        "\t\t\t'pertanyaan' : [\n",
        "\t\t\t\t\"aku beli eskrim\",\n",
        "\t\t\t\t\"beli eskrim\"\n",
        "\t\t\t],\n",
        "\t\t\t'jawaban' : [\n",
        "\t\t\t\t\"Tersedia varian Vanila dan coklat. Mau yang rasa apa?\",\n",
        "\t\t\t\t\"Vanilanya kosong. Kakak mau eskrim cokelat?\"\n",
        "\t\t\t],\n",
        "\t\t},\n",
        "\t\t{\n",
        "\t\t\t'tag' : \"b_eskrim2\",\n",
        "\t\t\t'setelahtag' : \"b_eskrim\",\n",
        "\t\t\t'bayar' : \"\",\n",
        "\t\t\t'pertanyaan' : [\n",
        "\t\t\t\t\"vanila\",\n",
        "\t\t\t\t\"cokelat\",\n",
        "\t\t\t\t\"coklat\",\n",
        "\t\t\t],\n",
        "\t\t\t'jawaban' : [\n",
        "\t\t\t\t\"Satuannya Rp. 5000,-. Mau beli berapa, kak?\"\n",
        "\t\t\t],\n",
        "\t\t},\n",
        "\t\t{\n",
        "\t\t\t'tag' : \"b_batagor\",\n",
        "\t\t\t'setelahtag' : \"\",\n",
        "\t\t\t'bayar' : \"\",\n",
        "\t\t\t'pertanyaan' : [\n",
        "\t\t\t\t\"aku beli batagor\",\n",
        "\t\t\t\t\"beli batagor\"\n",
        "\t\t\t],\n",
        "\t\t\t'jawaban' : [\n",
        "\t\t\t\t\"Yang pedas atau Ori??\"\n",
        "\t\t\t],\n",
        "\t\t},\n",
        "\t\t{\n",
        "\t\t\t'tag' : \"b_batagor2\",\n",
        "\t\t\t'setelahtag' : \"b_batagor\",\n",
        "\t\t\t'bayar' : \"\",\n",
        "\t\t\t'pertanyaan' : [\n",
        "\t\t\t\t\"pedas\",\n",
        "\t\t\t\t\"ori\"\n",
        "\t\t\t],\n",
        "\t\t\t'jawaban' : [\n",
        "\t\t\t\t\"Satuannya Rp. 8000,-. Mau beli berapa, kak?\"\n",
        "\t\t\t],\n",
        "\t\t},\n",
        "\t\t{\n",
        "\t\t\t'tag' : \"selesai\",\n",
        "\t\t\t'setelahtag' : \"\",\n",
        "\t\t\t'bayar' : \"\",\n",
        "\t\t\t'pertanyaan' : [\n",
        "\t\t\t\t\"makasih\",\n",
        "\t\t\t\t\"quit\"\n",
        "\t\t\t],\n",
        "\t\t\t'jawaban' : [\n",
        "\t\t\t\t\"Kunjungi kami lagi !\"\n",
        "\t\t\t],\n",
        "\t\t},\n",
        "\t\t{\n",
        "\t\t\t'setelahtag' : \"b_batagor2\",\n",
        "\t\t\t'bayar' : \"batagor\",\n",
        "\t\t\t'harga' : 8000,\n",
        "\t\t},\n",
        "\t\t{\n",
        "\t\t\t'setelahtag' : \"b_eskrim2\",\n",
        "\t\t\t'bayar' : \"bay_eskrim\",\n",
        "\t\t\t'harga' : 8000,\n",
        "\t\t},\n",
        "\t],\n",
        "}"
      ],
      "execution_count": 0,
      "outputs": []
    },
    {
      "cell_type": "code",
      "metadata": {
        "id": "VjHCmQ-CtbBg",
        "colab_type": "code",
        "colab": {}
      },
      "source": [
        "# definisi library\n",
        "from random import randint"
      ],
      "execution_count": 0,
      "outputs": []
    },
    {
      "cell_type": "code",
      "metadata": {
        "id": "MvPKiH16rEAu",
        "colab_type": "code",
        "colab": {}
      },
      "source": [
        "## Definisi function\n",
        "\n",
        "def hapustanda(kalimat):\n",
        "\t\"\"\"\n",
        "    versi simple dari preprocessing nlp\n",
        "\t\"\"\"\n",
        "\ttmp = \"\"\n",
        "\tfor huruf in kalimat.lower():\n",
        "\t\tif huruf not in \"?!,-.\":\n",
        "\t\t\ttmp += huruf\n",
        "\treturn tmp\n",
        "\t\n",
        "def hitung(q, doc):\n",
        "\t'''\n",
        "    versi simple dari cosine similiarity\n",
        "\t'''\n",
        "\ttmp =[]\n",
        "\tfor d in doc: \n",
        "\t\tc = [1 for i in q.split() if i in d]\n",
        "\t\ttmp.append(sum(c))\n",
        "\treturn tmp\n",
        "\n",
        "def cari(idx, resp):\n",
        "\t'''\n",
        "    menentukan respon mana yang akan dipakai (iya, ini masih pendekatan naif)\n",
        "\t'''\n",
        "\tif idx < 5:\n",
        "\t\tr = 0\n",
        "\telif idx < 7:\n",
        "\t\tr = 1\n",
        "\telif idx < 9:\n",
        "\t\tr = 2\n",
        "\telif idx < 11:\n",
        "\t\tr = 3\n",
        "\telif idx < 13:\n",
        "\t\tr = 4\n",
        "  # apa bila memiliki beberapa pilihan respon,\n",
        "  #   pemilihan respon dilakukan secara random\n",
        "\ti = randint(0, len(resp[r])-1)\n",
        "\treturn resp[r][i], r"
      ],
      "execution_count": 0,
      "outputs": []
    },
    {
      "cell_type": "code",
      "metadata": {
        "id": "RMstGxmurLBx",
        "colab_type": "code",
        "colab": {}
      },
      "source": [
        "def proses(q):\n",
        "\t\"\"\"\n",
        "    proses pencarian respon. Pendekatan masih naif, \n",
        "      karena dilakukan pengecekan satu per satu untuk nested dialog.\n",
        "\t\"\"\"\n",
        "\tprint(\">>> {}\".format(q))\n",
        "\tbersih = hapustanda(q)\n",
        "\t\n",
        "  # cek input special, seperti int atau str\n",
        "  # pada kasus ini dilakukan generalisir pada int saja.\n",
        "\tif con in bayar:\n",
        "\t\tharga = bayar[con][\"harga\"]\n",
        "\t\ttry :\n",
        "\t\t\tn = int(q)\n",
        "\t\t\tprint(\"Total harganya {}\".format(harga*n))\n",
        "\t\t\treturn \"\"\n",
        "\t\texcept:\n",
        "\t\t\tif q == \"batal\":\n",
        "\t\t\t\treturn \"\"\n",
        "\t\t\tprint(\"tolong masukkan jumlahnya dengan angka atau ketik 'batal' untuk membatalkan pesanan\")\n",
        "\t\t\treturn con\n",
        "  # cek input nested dialog dengan mengecek tagsebelumnya\n",
        "\telif con in pre:\n",
        "\t\tdocs = pre[con][\"pertanyaan\"]\n",
        "\t\tsim = hitung(bersih, docs)\n",
        "\t\tif (max(sim) > 0):\n",
        "\t\t\tr = pre[con][\"jawaban\"]\n",
        "\t\t\ti = randint(0, len(r)-1)\n",
        "\t\t\tprint(\"{}\".format(r[i]))\n",
        "\t\t\treturn pre[con][\"tag\"]\n",
        "\t\telse:\n",
        "\t\t\tprint(\"maaf kami ga ngerti, bisa diulang?\")\n",
        "\t\t\treturn con\n",
        "  # Penggunaan dialog biasa\n",
        "\telse:\n",
        "\t\tdocs = doc\n",
        "\t\tsim = hitung(bersih, docs)\n",
        "\t\tidx = sim.index(max(sim))\n",
        "\t\tr, i = cari(idx, resp)\n",
        "\t\tprint(\"{}\".format(r))\n",
        "\t\treturn kls[i]\n"
      ],
      "execution_count": 0,
      "outputs": []
    },
    {
      "cell_type": "code",
      "metadata": {
        "id": "spHEzjXfrOsN",
        "colab_type": "code",
        "colab": {}
      },
      "source": [
        "## definisi variabel global\n",
        "# membaca intent dan mengelompokkannya\n",
        "\n",
        "kls = []\n",
        "doc = []\n",
        "resp = []\n",
        "pre = {} # digunakan untuk nested dialog\n",
        "con = \"\" # digunakan untuk nested dialog\n",
        "bayar = {} #digunakan untuk input special, seperti int\n",
        "\n",
        "for kelas in intents[\"intents\"]:\n",
        "\tif kelas[\"bayar\"] != \"\":\n",
        "\t\tbayar[kelas[\"setelahtag\"]] = kelas\n",
        "\telif kelas[\"setelahtag\"] != \"\":\n",
        "\t\tpre[kelas[\"setelahtag\"]] = kelas\n",
        "\telse :\n",
        "\t\tkls.append(kelas[\"tag\"])\n",
        "\t\tfor pertanyaan in kelas[\"pertanyaan\"]:\n",
        "\t\t\tdoc.append(pertanyaan)\n",
        "\t\tresp.append(kelas[\"jawaban\"])\n"
      ],
      "execution_count": 0,
      "outputs": []
    },
    {
      "cell_type": "code",
      "metadata": {
        "id": "5UORvx9mrRNd",
        "colab_type": "code",
        "colab": {
          "base_uri": "https://localhost:8080/",
          "height": 311
        },
        "outputId": "35eac711-55c3-4b2d-8261-63c0e8e83bc4"
      },
      "source": [
        "## Simulasi \n",
        "# misal user udah ngasih input\n",
        "q = \"selamat pagi!\"\n",
        "con = proses(q)\n",
        "q = \"kamu ada jual apa aja?\"\n",
        "con = proses(q)\n",
        "q = \"aku beli batagor, ya\"\n",
        "con = proses(q)\n",
        "q = \"cokelat\"\n",
        "con = proses(q)\n",
        "q = \"ori\"\n",
        "con = proses(q)\n",
        "q = \"makasih\"\n",
        "con = proses(q)\n",
        "q = \"4\"\n",
        "con = proses(q)\n",
        "q = \"makasih\"\n",
        "con = proses(q)\n",
        "\n",
        "#print(pre.keys())"
      ],
      "execution_count": 14,
      "outputs": [
        {
          "output_type": "stream",
          "text": [
            ">>> selamat pagi!\n",
            "Hi!\n",
            ">>> kamu ada jual apa aja?\n",
            "Kami ada batagor sama eskrim, kak.\n",
            ">>> aku beli batagor, ya\n",
            "Yang pedas atau Ori??\n",
            ">>> cokelat\n",
            "maaf kami ga ngerti, bisa diulang?\n",
            ">>> ori\n",
            "Satuannya Rp. 8000,-. Mau beli berapa, kak?\n",
            ">>> makasih\n",
            "tolong masukkan jumlahnya dengan angka atau ketik 'batal' untuk membatalkan pesanan\n",
            ">>> 4\n",
            "Total harganya 32000\n",
            ">>> makasih\n",
            "Kunjungi kami lagi !\n"
          ],
          "name": "stdout"
        }
      ]
    },
    {
      "cell_type": "markdown",
      "metadata": {
        "id": "ybcE_JHJtw12",
        "colab_type": "text"
      },
      "source": [
        "# Chatbot v.3 - Coming Soon"
      ]
    },
    {
      "cell_type": "code",
      "metadata": {
        "id": "mPB0A-Y8tUc8",
        "colab_type": "code",
        "colab": {}
      },
      "source": [
        ""
      ],
      "execution_count": 0,
      "outputs": []
    }
  ]
}